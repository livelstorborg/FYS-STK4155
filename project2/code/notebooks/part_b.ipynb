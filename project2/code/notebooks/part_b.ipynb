{
 "cells": [
  {
   "cell_type": "code",
   "execution_count": null,
   "id": "8ebf0cce",
   "metadata": {},
   "outputs": [],
   "source": [
    "import sys, os\n",
    "sys.path.insert(0, '/Users/livestorborg/Desktop/FYS-STK4155/project2/code')\n",
    "\n",
    "import numpy as np\n",
    "from src.neural_network import NeuralNetwork\n",
    "from src.activations import Sigmoid, Linear\n",
    "from src.losses import MSE\n",
    "from src.optimizers import Adam\n",
    "from src.training import train\n",
    "from src.metrics import mse\n",
    "from src.utils import generate_runge_data, prepare_data, inverse_scale\n",
    "\n",
    "SEED = 42\n",
    "np.random.seed(SEED)"
   ]
  },
  {
   "cell_type": "code",
   "execution_count": null,
   "id": "6128ad17",
   "metadata": {},
   "outputs": [],
   "source": [
    "X, y = generate_runge_data(n_samples=100, noise_level=0.05, seed=SEED)\n",
    "X_train, X_test, y_train, y_test, scaler_X, scaler_y = prepare_data(X, y, test_size=0.2, scale=True, seed=SEED)"
   ]
  },
  {
   "cell_type": "code",
   "execution_count": null,
   "id": "9d4c5910",
   "metadata": {},
   "outputs": [],
   "source": [
    "# Cell 3: Train NN\n",
    "nn = NeuralNetwork([1, 50, 1], seed=SEED)\n",
    "activations = [Sigmoid(), Linear()]\n",
    "loss_fn = MSE()\n",
    "optimizer = Adam(learning_rate=0.01)\n",
    "\n",
    "history = train(\n",
    "    nn, X_train, y_train, X_test, y_test,\n",
    "    activations, loss_fn, optimizer,\n",
    "    epochs=100,\n",
    "    batch_size=16,\n",
    "    task='regression',\n",
    "    verbose=True,\n",
    "    seed=SEED\n",
    ")"
   ]
  },
  {
   "cell_type": "code",
   "execution_count": null,
   "id": "2e1af3f2",
   "metadata": {},
   "outputs": [],
   "source": [
    "# Cell 4: Evaluate\n",
    "y_pred = inverse_scale(nn.predict(X_test, activations), scaler_y)\n",
    "y_test_real = inverse_scale(y_test, scaler_y)\n",
    "\n",
    "test_mse = mse(y_test_real, y_pred)\n",
    "print(f\"Test MSE: {test_mse:.6f}\")"
   ]
  }
 ],
 "metadata": {
  "kernelspec": {
   "display_name": "Project 2",
   "language": "python",
   "name": "project2"
  },
  "language_info": {
   "codemirror_mode": {
    "name": "ipython",
    "version": 3
   },
   "file_extension": ".py",
   "mimetype": "text/x-python",
   "name": "python",
   "nbconvert_exporter": "python",
   "pygments_lexer": "ipython3",
   "version": "3.11.9"
  }
 },
 "nbformat": 4,
 "nbformat_minor": 5
}
