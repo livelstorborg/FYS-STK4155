{
 "cells": [
  {
   "cell_type": "code",
   "execution_count": null,
   "id": "8ebf0cce",
   "metadata": {},
   "outputs": [
    {
     "ename": "ModuleNotFoundError",
     "evalue": "No module named 'src'",
     "output_type": "error",
     "traceback": [
      "\u001b[31m---------------------------------------------------------------------------\u001b[39m",
      "\u001b[31mModuleNotFoundError\u001b[39m                       Traceback (most recent call last)",
      "\u001b[36mCell\u001b[39m\u001b[36m \u001b[39m\u001b[32mIn[6]\u001b[39m\u001b[32m, line 3\u001b[39m\n\u001b[32m      1\u001b[39m \u001b[38;5;66;03m# Import from specific modules\u001b[39;00m\n\u001b[32m      2\u001b[39m \u001b[38;5;28;01mimport\u001b[39;00m\u001b[38;5;250m \u001b[39m\u001b[34;01mnumpy\u001b[39;00m\u001b[38;5;250m \u001b[39m\u001b[38;5;28;01mas\u001b[39;00m\u001b[38;5;250m \u001b[39m\u001b[34;01mnp\u001b[39;00m\n\u001b[32m----> \u001b[39m\u001b[32m3\u001b[39m \u001b[38;5;28;01mfrom\u001b[39;00m\u001b[38;5;250m \u001b[39m\u001b[34;01msrc\u001b[39;00m\u001b[34;01m.\u001b[39;00m\u001b[34;01mneural_network\u001b[39;00m\u001b[38;5;250m \u001b[39m\u001b[38;5;28;01mimport\u001b[39;00m NeuralNetwork\n\u001b[32m      4\u001b[39m \u001b[38;5;28;01mfrom\u001b[39;00m\u001b[38;5;250m \u001b[39m\u001b[34;01msrc\u001b[39;00m\u001b[34;01m.\u001b[39;00m\u001b[34;01mactivations\u001b[39;00m\u001b[38;5;250m \u001b[39m\u001b[38;5;28;01mimport\u001b[39;00m Sigmoid, Linear\n\u001b[32m      5\u001b[39m \u001b[38;5;28;01mfrom\u001b[39;00m\u001b[38;5;250m \u001b[39m\u001b[34;01msrc\u001b[39;00m\u001b[34;01m.\u001b[39;00m\u001b[34;01mlosses\u001b[39;00m\u001b[38;5;250m \u001b[39m\u001b[38;5;28;01mimport\u001b[39;00m MSE\n",
      "\u001b[31mModuleNotFoundError\u001b[39m: No module named 'src'"
     ]
    }
   ],
   "source": [
    "# Import from specific modules\n",
    "import numpy as np\n",
    "from src.neural_network import NeuralNetwork\n",
    "from src.activations import Sigmoid, Linear\n",
    "from src.losses import MSE\n",
    "from src.optimizers import Adam\n",
    "from src.training import train\n",
    "from src.metrics import mse\n",
    "from src.utils import generate_runge_data, prepare_data, inverse_scale\n",
    "\n",
    "SEED = 42\n",
    "np.random.seed(SEED)"
   ]
  },
  {
   "cell_type": "code",
   "execution_count": null,
   "id": "6128ad17",
   "metadata": {},
   "outputs": [],
   "source": [
    "X, y = generate_runge_data(n_samples=100, noise_level=0.05, seed=SEED)\n",
    "X_train, X_test, y_train, y_test, scaler_X, scaler_y = prepare_data(X, y, test_size=0.2, scale=True, seed=SEED)"
   ]
  },
  {
   "cell_type": "code",
   "execution_count": null,
   "id": "9d4c5910",
   "metadata": {},
   "outputs": [],
   "source": [
    "# Cell 3: Train NN\n",
    "nn = NeuralNetwork([1, 50, 1], seed=SEED)\n",
    "activations = [Sigmoid(), Linear()]\n",
    "loss_fn = MSE()\n",
    "optimizer = Adam(learning_rate=0.01)\n",
    "\n",
    "history = train(\n",
    "    nn, X_train, y_train, X_test, y_test,\n",
    "    activations, loss_fn, optimizer,\n",
    "    epochs=100,\n",
    "    batch_size=16,\n",
    "    task='regression',\n",
    "    verbose=True,\n",
    "    seed=SEED\n",
    ")"
   ]
  },
  {
   "cell_type": "code",
   "execution_count": null,
   "id": "2e1af3f2",
   "metadata": {},
   "outputs": [],
   "source": [
    "# Cell 4: Evaluate\n",
    "y_pred = inverse_scale(nn.predict(X_test, activations), scaler_y)\n",
    "y_test_real = inverse_scale(y_test, scaler_y)\n",
    "\n",
    "test_mse = mse(y_test_real, y_pred)\n",
    "print(f\"Test MSE: {test_mse:.6f}\")"
   ]
  }
 ],
 "metadata": {
  "kernelspec": {
   "display_name": "Project 2",
   "language": "python",
   "name": "project2"
  },
  "language_info": {
   "codemirror_mode": {
    "name": "ipython",
    "version": 3
   },
   "file_extension": ".py",
   "mimetype": "text/x-python",
   "name": "python",
   "nbconvert_exporter": "python",
   "pygments_lexer": "ipython3",
   "version": "3.11.9"
  }
 },
 "nbformat": 4,
 "nbformat_minor": 5
}
