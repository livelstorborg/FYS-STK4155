{
 "cells": [
  {
   "cell_type": "code",
   "execution_count": null,
   "id": "7a0632cf",
   "metadata": {},
   "outputs": [],
   "source": [
    "import os\n",
    "import sys\n",
    "\n",
    "# Get the directory where the script is located\n",
    "script_dir = os.path.dirname(os.path.abspath(__file__))\n",
    "os.chdir(script_dir)"
   ]
  },
  {
   "cell_type": "markdown",
   "id": "ef8f8cd7",
   "metadata": {},
   "source": [
    "# Part a - OLS\n",
    "- MSE test and train for OLS Regression\n",
    "- R2 test and train for OLS Regression\n",
    "- Theta for OLS Regression\n",
    "- Heatmap of test MSE for OLS Regression for varying sample size and polynomial degree"
   ]
  },
  {
   "cell_type": "code",
   "execution_count": null,
   "id": "31abbc16",
   "metadata": {},
   "outputs": [],
   "source": [
    "%run main_ols.py"
   ]
  },
  {
   "cell_type": "markdown",
   "id": "3a9901fa",
   "metadata": {},
   "source": [
    "# Part b - Ridge Regression\n",
    "- MSE test and train for Ridge Regression\n",
    "- R2 test and train for Ridge Regression\n",
    "- Theta for Ridge Regression\n",
    "- 3D plot of test MSE for Ridge Regression for varying sample size, polynomial degree and $\\lambda$"
   ]
  },
  {
   "cell_type": "markdown",
   "id": "82aaa5fd",
   "metadata": {},
   "source": [
    "**Note:** To produce MSE and R2 plots (exactly as in the report), use DEGREES = range(1, 36) in main_ridge.py\n",
    "\n",
    "Theta-plot and 3D plot are produced with DEGREES = range(1, 16) (as presented in the report)."
   ]
  },
  {
   "cell_type": "code",
   "execution_count": null,
   "id": "fbd0f5b7",
   "metadata": {},
   "outputs": [],
   "source": [
    "%run main_ridge.py"
   ]
  },
  {
   "cell_type": "markdown",
   "id": "6552a0c9",
   "metadata": {},
   "source": [
    "# Part c & d - Gradient Descent and optimizers for OLS and Ridge Regression\n",
    "- Convergence plot OLS and Ridge using regular Gradient Descent for varying learning rates\n",
    "- Table for OLS containing information about type of optimizer, final MSE, $\\eta$ and convergence/divergence\n",
    "- Table for Ridge containing information about type of optimizer, final MSE, $\\eta$ and convergence/divergence "
   ]
  },
  {
   "cell_type": "code",
   "execution_count": null,
   "id": "70e5f20d",
   "metadata": {},
   "outputs": [],
   "source": [
    "%run main_gd.py"
   ]
  },
  {
   "cell_type": "markdown",
   "id": "0eeb7d2e",
   "metadata": {},
   "source": [
    "# Part e - Lasso Regression\n",
    "- MSE test and train for OLS, Ridge and Lasso Regression\n",
    "  - Using analytical solution for OLS and Ridge and Scikit-Learn for Lasso\n",
    "- Table containing information about type of optimizer, final MSE, $\\eta$ and convergence/divergence for OLS, Ridge and Lasso Regression\n",
    "  - Used to extract information about optimal $\\eta$ for different optimizers for Lasso Regression presented in table for Lasso in report"
   ]
  },
  {
   "cell_type": "code",
   "execution_count": null,
   "id": "b8eb5538",
   "metadata": {},
   "outputs": [],
   "source": [
    "%run main_lasso.py"
   ]
  },
  {
   "cell_type": "markdown",
   "id": "281e4381",
   "metadata": {},
   "source": [
    "# Part f - Stochastic Gradient Descent \n",
    "- Table for OLS, Ridge and Lasso for comparing regular Gradient Descent and Stochastic Gradient Descent for all optimizers with their optimal $\\eta$ respectivally\n",
    "  - Only OLS table is presented in the report, but Ridge and Lasso is used for extensive discussion\n",
    "**Note:** This takes around 30 seconds to run."
   ]
  },
  {
   "cell_type": "code",
   "execution_count": null,
   "id": "9508df24",
   "metadata": {},
   "outputs": [],
   "source": [
    "%run main_stochastic.py"
   ]
  },
  {
   "cell_type": "markdown",
   "id": "3c1720d3",
   "metadata": {},
   "source": [
    "# Part g & h - Resampling methods: Cross Validation and Bootstrap\n",
    "- bias-variance decomposition\n",
    "- bias-variance heatmap\n",
    "- bootstrap vs cv\n",
    "- MSE for cv for different noise levels\n",
    "- Bootstrap comparison \n",
    "- Extensive comparison of OLS vs Ridge and OLS vs Lasso for different noise levels and sample sizes\n",
    "\n",
    "**Note:** delta_heatmap_multi_noise_combined takes more than an hour to run, precomputed results used for this plot is stored in cv_result (running this file will still take around one minute, due to loading the precomputed results)."
   ]
  },
  {
   "cell_type": "code",
   "execution_count": null,
   "id": "4831827d",
   "metadata": {},
   "outputs": [],
   "source": [
    "%run main_resampling.py"
   ]
  }
 ],
 "metadata": {
  "kernelspec": {
   "display_name": "FYSSTKPROJ1",
   "language": "python",
   "name": "uvkernel"
  },
  "language_info": {
   "codemirror_mode": {
    "name": "ipython",
    "version": 3
   },
   "file_extension": ".py",
   "mimetype": "text/x-python",
   "name": "python",
   "nbconvert_exporter": "python",
   "pygments_lexer": "ipython3",
   "version": "3.11.9"
  }
 },
 "nbformat": 4,
 "nbformat_minor": 5
}
