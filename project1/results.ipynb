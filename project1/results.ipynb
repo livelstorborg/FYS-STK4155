{
 "cells": [
  {
   "cell_type": "markdown",
   "id": "ef8f8cd7",
   "metadata": {},
   "source": [
    "# Part a) MSE and R2 of train and test data for OLS Regression"
   ]
  },
  {
   "cell_type": "code",
   "execution_count": null,
   "id": "31abbc16",
   "metadata": {},
   "outputs": [],
   "source": [
    "%run main_ols.py"
   ]
  },
  {
   "cell_type": "markdown",
   "id": "3a9901fa",
   "metadata": {},
   "source": [
    "# Part b) MSE and R2 of train and test data for Ridge Regression"
   ]
  },
  {
   "cell_type": "code",
   "execution_count": null,
   "id": "fbd0f5b7",
   "metadata": {},
   "outputs": [],
   "source": [
    "%run main_ridge.py"
   ]
  },
  {
   "cell_type": "markdown",
   "id": "6552a0c9",
   "metadata": {},
   "source": [
    "# Part c) & d) Gradient Descent and optimizers for OLS and Ridge Regression"
   ]
  },
  {
   "cell_type": "code",
   "execution_count": null,
   "id": "70e5f20d",
   "metadata": {},
   "outputs": [],
   "source": [
    "%run main_gd.py"
   ]
  },
  {
   "cell_type": "markdown",
   "id": "0eeb7d2e",
   "metadata": {},
   "source": [
    "# Part e) Lasso Regression"
   ]
  },
  {
   "cell_type": "code",
   "execution_count": null,
   "id": "b8eb5538",
   "metadata": {},
   "outputs": [],
   "source": [
    "%run main_lasso.py"
   ]
  },
  {
   "cell_type": "markdown",
   "id": "281e4381",
   "metadata": {},
   "source": [
    "# Part f) Stochastic Gradient Descent "
   ]
  },
  {
   "cell_type": "code",
   "execution_count": null,
   "id": "9508df24",
   "metadata": {},
   "outputs": [],
   "source": [
    "%run main_stochastic.py"
   ]
  },
  {
   "cell_type": "markdown",
   "id": "3c1720d3",
   "metadata": {},
   "source": [
    "# Part g) & h) Resampling methods - Cross Validation and Bootstrap"
   ]
  },
  {
   "cell_type": "code",
   "execution_count": null,
   "id": "4831827d",
   "metadata": {},
   "outputs": [],
   "source": [
    "%run main_resampling.py"
   ]
  }
 ],
 "metadata": {
  "kernelspec": {
   "display_name": "FYSSTKPROJ1",
   "language": "python",
   "name": "uvkernel"
  },
  "language_info": {
   "codemirror_mode": {
    "name": "ipython",
    "version": 3
   },
   "file_extension": ".py",
   "mimetype": "text/x-python",
   "name": "python",
   "nbconvert_exporter": "python",
   "pygments_lexer": "ipython3",
   "version": "3.11.9"
  }
 },
 "nbformat": 4,
 "nbformat_minor": 5
}
